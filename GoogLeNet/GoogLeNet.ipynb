{
 "cells": [
  {
   "cell_type": "code",
   "execution_count": 1,
   "metadata": {},
   "outputs": [
    {
     "name": "stderr",
     "output_type": "stream",
     "text": [
      "2022-03-29 21:49:51.658957: I tensorflow/stream_executor/platform/default/dso_loader.cc:53] Successfully opened dynamic library libcudart.so.11.0\n"
     ]
    }
   ],
   "source": [
    "import tensorflow as tf\n",
    "import matplotlib.pyplot as plt\n",
    "from tensorflow.keras import datasets, layers, models, losses, Model"
   ]
  },
  {
   "cell_type": "code",
   "execution_count": 2,
   "metadata": {},
   "outputs": [
    {
     "name": "stderr",
     "output_type": "stream",
     "text": [
      "2022-03-29 21:49:58.698264: I tensorflow/stream_executor/platform/default/dso_loader.cc:53] Successfully opened dynamic library libcuda.so.1\n",
      "2022-03-29 21:49:59.126276: I tensorflow/core/common_runtime/gpu/gpu_device.cc:1733] Found device 0 with properties: \n",
      "pciBusID: 0000:3d:00.0 name: NVIDIA GeForce RTX 2080 Ti computeCapability: 7.5\n",
      "coreClock: 1.545GHz coreCount: 68 deviceMemorySize: 10.76GiB deviceMemoryBandwidth: 573.69GiB/s\n",
      "2022-03-29 21:49:59.126687: I tensorflow/stream_executor/platform/default/dso_loader.cc:53] Successfully opened dynamic library libcudart.so.11.0\n",
      "2022-03-29 21:49:59.213372: I tensorflow/stream_executor/platform/default/dso_loader.cc:53] Successfully opened dynamic library libcublas.so.11\n",
      "2022-03-29 21:49:59.213948: I tensorflow/stream_executor/platform/default/dso_loader.cc:53] Successfully opened dynamic library libcublasLt.so.11\n",
      "2022-03-29 21:49:59.233395: I tensorflow/stream_executor/platform/default/dso_loader.cc:53] Successfully opened dynamic library libcufft.so.10\n",
      "2022-03-29 21:49:59.235965: I tensorflow/stream_executor/platform/default/dso_loader.cc:53] Successfully opened dynamic library libcurand.so.10\n",
      "2022-03-29 21:49:59.243624: I tensorflow/stream_executor/platform/default/dso_loader.cc:53] Successfully opened dynamic library libcusolver.so.11\n",
      "2022-03-29 21:49:59.251131: I tensorflow/stream_executor/platform/default/dso_loader.cc:53] Successfully opened dynamic library libcusparse.so.11\n",
      "2022-03-29 21:49:59.252372: I tensorflow/stream_executor/platform/default/dso_loader.cc:53] Successfully opened dynamic library libcudnn.so.8\n",
      "2022-03-29 21:49:59.335273: I tensorflow/core/common_runtime/gpu/gpu_device.cc:1871] Adding visible gpu devices: 0\n",
      "2022-03-29 21:49:59.364404: I tensorflow/core/platform/cpu_feature_guard.cc:142] This TensorFlow binary is optimized with oneAPI Deep Neural Network Library (oneDNN) to use the following CPU instructions in performance-critical operations:  AVX2 AVX512F FMA\n",
      "To enable them in other operations, rebuild TensorFlow with the appropriate compiler flags.\n",
      "2022-03-29 21:49:59.458564: I tensorflow/core/common_runtime/gpu/gpu_device.cc:1733] Found device 0 with properties: \n",
      "pciBusID: 0000:3d:00.0 name: NVIDIA GeForce RTX 2080 Ti computeCapability: 7.5\n",
      "coreClock: 1.545GHz coreCount: 68 deviceMemorySize: 10.76GiB deviceMemoryBandwidth: 573.69GiB/s\n",
      "2022-03-29 21:49:59.472669: I tensorflow/core/common_runtime/gpu/gpu_device.cc:1871] Adding visible gpu devices: 0\n",
      "2022-03-29 21:49:59.479393: I tensorflow/stream_executor/platform/default/dso_loader.cc:53] Successfully opened dynamic library libcudart.so.11.0\n",
      "2022-03-29 21:50:05.754629: I tensorflow/core/common_runtime/gpu/gpu_device.cc:1258] Device interconnect StreamExecutor with strength 1 edge matrix:\n",
      "2022-03-29 21:50:05.754941: I tensorflow/core/common_runtime/gpu/gpu_device.cc:1264]      0 \n",
      "2022-03-29 21:50:05.755021: I tensorflow/core/common_runtime/gpu/gpu_device.cc:1277] 0:   N \n",
      "2022-03-29 21:50:05.799076: I tensorflow/core/common_runtime/gpu/gpu_device.cc:1418] Created TensorFlow device (/job:localhost/replica:0/task:0/device:GPU:0 with 9661 MB memory) -> physical GPU (device: 0, name: NVIDIA GeForce RTX 2080 Ti, pci bus id: 0000:3d:00.0, compute capability: 7.5)\n"
     ]
    }
   ],
   "source": [
    "(train_data, train_labels), (test_data, test_labels) = datasets.mnist.load_data()\n",
    "\n",
    "train_data = train_data / 255.0\n",
    "test_data = test_data / 255.0\n",
    "\n",
    "train_data = tf.pad(train_data, [[0, 0], [2, 2], [2, 2]])\n",
    "test_data = tf.pad(test_data, [[0, 0], [2, 2], [2, 2]])\n",
    "\n",
    "train_data = tf.expand_dims(train_data, 3)\n",
    "test_data = tf.expand_dims(test_data, 3)\n",
    "\n",
    "train_data = tf.repeat(train_data, repeats=3, axis=3)\n",
    "test_data = tf.repeat(test_data, repeats=3, axis=3)\n",
    "\n",
    "x_val = train_data[-2000:,:,:,:]\n",
    "x_train = train_data[:-2000,:,:,:]\n",
    "y_val = train_labels[-2000:]\n",
    "y_train = train_labels[:-2000]"
   ]
  },
  {
   "cell_type": "code",
   "execution_count": 3,
   "metadata": {},
   "outputs": [],
   "source": [
    "def inception(x, \n",
    "              filters_1x1,\n",
    "              filters_3x3_reduce,\n",
    "              filters_3x3,\n",
    "              filters_5x5_reduce,\n",
    "              filters_5x5,\n",
    "              filters_pool):\n",
    "  path1 = layers.Conv2D(filters_1x1, 1, padding='same', activation='relu')(x)\n",
    "\n",
    "  path2 = layers.Conv2D(filters_3x3_reduce, 1, padding='same', activation='relu')(x)\n",
    "  path2 = layers.Conv2D(filters_3x3, 1, padding='same', activation='relu')(path2)\n",
    "\n",
    "  path3 = layers.Conv2D(filters_5x5_reduce, 1, padding='same', activation='relu')(x)\n",
    "  path3 = layers.Conv2D(filters_5x5, 1, padding='same', activation='relu')(path3)\n",
    "\n",
    "  path4 = layers.MaxPool2D(3, strides=1, padding='same')(x)\n",
    "  path4 = layers.Conv2D(filters_pool, 1, padding='same', activation='relu')(path4)\n",
    "\n",
    "  return tf.concat([path1, path2, path3, path4], axis=3)"
   ]
  },
  {
   "cell_type": "code",
   "execution_count": 5,
   "metadata": {},
   "outputs": [],
   "source": [
    "input = layers.Input(shape=(32, 32, 3))\n",
    "input_tensor = layers.experimental.preprocessing.Resizing(224,224,interpolation='bilinear', input_shape=x_train.shape[1:])(input)\n",
    "\n",
    "x = layers.Conv2D(64, 7, padding='same', activation='relu')(input_tensor)\n",
    "x = layers.MaxPool2D(3, strides=2, padding='same')(x)\n",
    "\n",
    "x = layers.Conv2D(64, 1, padding='same', activation='relu')(x)\n",
    "x = layers.Conv2D(192, 3, padding='same', activation='relu')(x)\n",
    "x = layers.MaxPooling2D(3, strides=2, padding='same')(x)\n",
    "\n",
    "x = inception(x, 64, 96, 128, 16, 32, 32)\n",
    "x = inception(x, 128, 128, 192, 32, 96, 64)\n",
    "x = layers.MaxPooling2D(3, strides=2, padding='same')(x)\n",
    "\n",
    "x = inception(x, 192, 96, 208, 16, 48, 64)\n",
    "\n",
    "aux1 = layers.AveragePooling2D(5, strides=3, padding='same')(x)\n",
    "aux1 = layers.Conv2D(128, 1, padding='same', activation='relu')(aux1)\n",
    "aux1 = layers.Flatten()(aux1)\n",
    "aux1 = layers.Dense(1024, activation='relu')(aux1)\n",
    "aux1 = layers.Dropout(0.7)(aux1)\n",
    "aux1 = layers.Dense(10, activation='softmax')(aux1)\n",
    "\n",
    "x = inception(x, 160, 112, 224, 24, 64, 64)\n",
    "x = inception(x, 128, 128, 256, 24, 64, 64)\n",
    "x = inception(x, 112, 144, 288, 32, 64, 64)\n",
    "\n",
    "aux2 = layers.AveragePooling2D((5, 5), strides=3)(x)\n",
    "aux2 =layers.Conv2D(128, 1, padding='same', activation='relu')(aux2)\n",
    "aux2 = layers.Flatten()(aux2)\n",
    "aux2 = layers.Dense(1024, activation='relu')(aux2)\n",
    "aux2 = layers.Dropout(0.7)(aux2) \n",
    "aux2 = layers.Dense(10, activation='softmax')(aux2)\n",
    "\n",
    "x = inception(x, 256, 160, 320, 32, 128, 128)\n",
    "\n",
    "x = layers.MaxPool2D(3, strides=2, padding='same')(x)\n",
    "\n",
    "x = inception(x, 256, 160, 320, 32, 128, 128)\n",
    "x = inception(x, 384, 192, 384, 48, 128, 128)\n",
    "x = layers.GlobalAveragePooling2D()(x)\n",
    "x = layers.Dropout(0.4)(x)\n",
    "\n",
    "out = layers.Dense(10, activation='softmax')(x)"
   ]
  },
  {
   "cell_type": "code",
   "execution_count": 6,
   "metadata": {},
   "outputs": [],
   "source": [
    "model = Model(inputs=input, outputs=[out, aux1, aux2])"
   ]
  },
  {
   "cell_type": "code",
   "execution_count": 9,
   "metadata": {},
   "outputs": [],
   "source": [
    "model.compile(optimizer='adam', loss=[\"sparse_categorical_crossentropy\", \n",
    "                                        \"sparse_categorical_crossentropy\", \n",
    "                                        \"sparse_categorical_crossentropy\"], \n",
    "                                        metrics=[\"accuracy\"])"
   ]
  },
  {
   "cell_type": "code",
   "execution_count": 10,
   "metadata": {},
   "outputs": [
    {
     "name": "stderr",
     "output_type": "stream",
     "text": [
      "2022-03-29 21:51:39.407910: I tensorflow/compiler/mlir/mlir_graph_optimization_pass.cc:176] None of the MLIR Optimization Passes are enabled (registered 2)\n",
      "2022-03-29 21:51:39.426208: I tensorflow/core/platform/profile_utils/cpu_utils.cc:114] CPU Frequency: 2100000000 Hz\n"
     ]
    },
    {
     "name": "stdout",
     "output_type": "stream",
     "text": [
      "Epoch 1/10\n"
     ]
    },
    {
     "name": "stderr",
     "output_type": "stream",
     "text": [
      "2022-03-29 21:51:48.970930: I tensorflow/stream_executor/platform/default/dso_loader.cc:53] Successfully opened dynamic library libcudnn.so.8\n",
      "2022-03-29 21:51:57.181529: I tensorflow/stream_executor/cuda/cuda_dnn.cc:359] Loaded cuDNN version 8101\n",
      "2022-03-29 21:52:11.512011: I tensorflow/stream_executor/platform/default/dso_loader.cc:53] Successfully opened dynamic library libcublas.so.11\n",
      "2022-03-29 21:52:21.911824: I tensorflow/stream_executor/platform/default/dso_loader.cc:53] Successfully opened dynamic library libcublasLt.so.11\n"
     ]
    },
    {
     "name": "stdout",
     "output_type": "stream",
     "text": [
      "907/907 [==============================] - 355s 337ms/step - loss: 1.8905 - dense_4_loss: 1.2796 - dense_1_loss: 0.2967 - dense_3_loss: 0.3141 - dense_4_accuracy: 0.5373 - dense_1_accuracy: 0.9067 - dense_3_accuracy: 0.9008 - val_loss: 0.4406 - val_dense_4_loss: 0.3280 - val_dense_1_loss: 0.0542 - val_dense_3_loss: 0.0584 - val_dense_4_accuracy: 0.8950 - val_dense_1_accuracy: 0.9880 - val_dense_3_accuracy: 0.9865\n",
      "Epoch 2/10\n",
      "907/907 [==============================] - 288s 317ms/step - loss: 0.4445 - dense_4_loss: 0.2457 - dense_1_loss: 0.0940 - dense_3_loss: 0.1048 - dense_4_accuracy: 0.9264 - dense_1_accuracy: 0.9721 - dense_3_accuracy: 0.9694 - val_loss: 0.1986 - val_dense_4_loss: 0.1087 - val_dense_1_loss: 0.0461 - val_dense_3_loss: 0.0438 - val_dense_4_accuracy: 0.9725 - val_dense_1_accuracy: 0.9905 - val_dense_3_accuracy: 0.9900\n",
      "Epoch 3/10\n",
      "907/907 [==============================] - 289s 319ms/step - loss: 0.2951 - dense_4_loss: 0.1514 - dense_1_loss: 0.0699 - dense_3_loss: 0.0738 - dense_4_accuracy: 0.9543 - dense_1_accuracy: 0.9788 - dense_3_accuracy: 0.9781 - val_loss: 0.1400 - val_dense_4_loss: 0.0683 - val_dense_1_loss: 0.0372 - val_dense_3_loss: 0.0346 - val_dense_4_accuracy: 0.9785 - val_dense_1_accuracy: 0.9935 - val_dense_3_accuracy: 0.9940\n",
      "Epoch 4/10\n",
      "907/907 [==============================] - 294s 324ms/step - loss: 0.2389 - dense_4_loss: 0.1212 - dense_1_loss: 0.0569 - dense_3_loss: 0.0607 - dense_4_accuracy: 0.9632 - dense_1_accuracy: 0.9830 - dense_3_accuracy: 0.9826 - val_loss: 0.1452 - val_dense_4_loss: 0.0696 - val_dense_1_loss: 0.0446 - val_dense_3_loss: 0.0310 - val_dense_4_accuracy: 0.9840 - val_dense_1_accuracy: 0.9925 - val_dense_3_accuracy: 0.9915\n",
      "Epoch 5/10\n",
      "907/907 [==============================] - 301s 332ms/step - loss: 0.2010 - dense_4_loss: 0.0990 - dense_1_loss: 0.0504 - dense_3_loss: 0.0516 - dense_4_accuracy: 0.9699 - dense_1_accuracy: 0.9843 - dense_3_accuracy: 0.9844 - val_loss: 0.2207 - val_dense_4_loss: 0.1421 - val_dense_1_loss: 0.0364 - val_dense_3_loss: 0.0421 - val_dense_4_accuracy: 0.9630 - val_dense_1_accuracy: 0.9915 - val_dense_3_accuracy: 0.9930\n",
      "Epoch 6/10\n",
      "232/907 [======>.......................] - ETA: 3:44 - loss: 0.1788 - dense_4_loss: 0.0897 - dense_1_loss: 0.0404 - dense_3_loss: 0.0487 - dense_4_accuracy: 0.9718 - dense_1_accuracy: 0.9877 - dense_3_accuracy: 0.9857"
     ]
    },
    {
     "name": "stderr",
     "output_type": "stream",
     "text": [
      "2022-03-29 22:18:24.416086: W tensorflow/core/common_runtime/bfc_allocator.cc:271] Allocator (GPU_0_bfc) ran out of memory trying to allocate 1.72GiB with freed_by_count=0. The caller indicates that this is not a failure, but may mean that there could be performance gains if more memory were available.\n"
     ]
    },
    {
     "name": "stdout",
     "output_type": "stream",
     "text": [
      "907/907 [==============================] - 311s 343ms/step - loss: 0.1770 - dense_4_loss: 0.0857 - dense_1_loss: 0.0432 - dense_3_loss: 0.0481 - dense_4_accuracy: 0.9736 - dense_1_accuracy: 0.9868 - dense_3_accuracy: 0.9854 - val_loss: 0.1376 - val_dense_4_loss: 0.0733 - val_dense_1_loss: 0.0339 - val_dense_3_loss: 0.0304 - val_dense_4_accuracy: 0.9820 - val_dense_1_accuracy: 0.9935 - val_dense_3_accuracy: 0.9930\n",
      "Epoch 7/10\n",
      "107/907 [==>...........................] - ETA: 4:34 - loss: 0.1293 - dense_4_loss: 0.0694 - dense_1_loss: 0.0295 - dense_3_loss: 0.0304 - dense_4_accuracy: 0.9779 - dense_1_accuracy: 0.9902 - dense_3_accuracy: 0.9905"
     ]
    },
    {
     "name": "stderr",
     "output_type": "stream",
     "text": [
      "2022-03-29 22:22:55.323676: W tensorflow/core/common_runtime/bfc_allocator.cc:271] Allocator (GPU_0_bfc) ran out of memory trying to allocate 1.72GiB with freed_by_count=0. The caller indicates that this is not a failure, but may mean that there could be performance gains if more memory were available.\n"
     ]
    },
    {
     "name": "stdout",
     "output_type": "stream",
     "text": [
      "591/907 [==================>...........] - ETA: 1:49 - loss: 0.1502 - dense_4_loss: 0.0735 - dense_1_loss: 0.0377 - dense_3_loss: 0.0390 - dense_4_accuracy: 0.9767 - dense_1_accuracy: 0.9892 - dense_3_accuracy: 0.9876"
     ]
    },
    {
     "name": "stderr",
     "output_type": "stream",
     "text": [
      "2022-03-29 22:25:42.643504: W tensorflow/core/common_runtime/bfc_allocator.cc:271] Allocator (GPU_0_bfc) ran out of memory trying to allocate 1.72GiB with freed_by_count=0. The caller indicates that this is not a failure, but may mean that there could be performance gains if more memory were available.\n"
     ]
    },
    {
     "name": "stdout",
     "output_type": "stream",
     "text": [
      "907/907 [==============================] - 314s 346ms/step - loss: 0.1540 - dense_4_loss: 0.0741 - dense_1_loss: 0.0386 - dense_3_loss: 0.0413 - dense_4_accuracy: 0.9770 - dense_1_accuracy: 0.9886 - dense_3_accuracy: 0.9874 - val_loss: 0.1507 - val_dense_4_loss: 0.0730 - val_dense_1_loss: 0.0423 - val_dense_3_loss: 0.0354 - val_dense_4_accuracy: 0.9815 - val_dense_1_accuracy: 0.9920 - val_dense_3_accuracy: 0.9915\n",
      "Epoch 8/10\n",
      "907/907 [==============================] - 312s 344ms/step - loss: 0.1408 - dense_4_loss: 0.0671 - dense_1_loss: 0.0363 - dense_3_loss: 0.0374 - dense_4_accuracy: 0.9790 - dense_1_accuracy: 0.9888 - dense_3_accuracy: 0.9889 - val_loss: 0.0974 - val_dense_4_loss: 0.0497 - val_dense_1_loss: 0.0288 - val_dense_3_loss: 0.0189 - val_dense_4_accuracy: 0.9850 - val_dense_1_accuracy: 0.9950 - val_dense_3_accuracy: 0.9960\n",
      "Epoch 9/10\n",
      "907/907 [==============================] - 313s 345ms/step - loss: 0.1247 - dense_4_loss: 0.0605 - dense_1_loss: 0.0310 - dense_3_loss: 0.0332 - dense_4_accuracy: 0.9807 - dense_1_accuracy: 0.9904 - dense_3_accuracy: 0.9898 - val_loss: 0.1306 - val_dense_4_loss: 0.0510 - val_dense_1_loss: 0.0404 - val_dense_3_loss: 0.0393 - val_dense_4_accuracy: 0.9845 - val_dense_1_accuracy: 0.9930 - val_dense_3_accuracy: 0.9905\n",
      "Epoch 10/10\n",
      "907/907 [==============================] - 317s 350ms/step - loss: 0.1201 - dense_4_loss: 0.0572 - dense_1_loss: 0.0284 - dense_3_loss: 0.0344 - dense_4_accuracy: 0.9828 - dense_1_accuracy: 0.9912 - dense_3_accuracy: 0.9901 - val_loss: 0.1053 - val_dense_4_loss: 0.0454 - val_dense_1_loss: 0.0360 - val_dense_3_loss: 0.0238 - val_dense_4_accuracy: 0.9875 - val_dense_1_accuracy: 0.9945 - val_dense_3_accuracy: 0.9955\n"
     ]
    }
   ],
   "source": [
    "history = model.fit(x_train, [y_train, y_train, y_train], epochs=10, \n",
    "                    batch_size=64, validation_data=(x_val, [y_val, y_val, y_val]))"
   ]
  },
  {
   "cell_type": "code",
   "execution_count": 11,
   "metadata": {},
   "outputs": [
    {
     "data": {
      "text/plain": [
       "<matplotlib.legend.Legend at 0x7ff90437feb0>"
      ]
     },
     "execution_count": 11,
     "metadata": {},
     "output_type": "execute_result"
    },
    {
     "data": {
      "image/png": "[encoded data removed]",
      "text/plain": [
       "<Figure size 1080x1080 with 2 Axes>"
      ]
     },
     "metadata": {
      "needs_background": "light"
     },
     "output_type": "display_data"
    }
   ],
   "source": [
    "fig, axs = plt.subplots(2, 1, figsize=(15,15))\n",
    "axs[0].plot(history.history['loss'])\n",
    "axs[0].plot(history.history['val_loss'])\n",
    "axs[0].title.set_text('Training Loss vs Validation Loss')\n",
    "axs[0].set_xlabel('Epochs')\n",
    "axs[0].set_ylabel('Loss')\n",
    "axs[0].legend(['Train','Val'])\n",
    "\n",
    "axs[1].plot(history.history['dense_4_accuracy'])\n",
    "axs[1].plot(history.history['val_dense_4_accuracy'])\n",
    "axs[1].title.set_text('Training Accuracy vs Validation Accuracy')\n",
    "axs[1].set_xlabel('Epochs')\n",
    "axs[1].set_ylabel('Accuracy')\n",
    "axs[1].legend(['Train', 'Val'])"
   ]
  },
  {
   "cell_type": "code",
   "execution_count": 12,
   "metadata": {},
   "outputs": [
    {
     "name": "stdout",
     "output_type": "stream",
     "text": [
      "313/313 [==============================] - 41s 126ms/step - loss: 0.1020 - dense_4_loss: 0.0617 - dense_1_loss: 0.0192 - dense_3_loss: 0.0211 - dense_4_accuracy: 0.9819 - dense_1_accuracy: 0.9947 - dense_3_accuracy: 0.993127s - loss: 0.1323 - de\n"
     ]
    },
    {
     "data": {
      "text/plain": [
       "[0.10200109332799911,\n",
       " 0.061719901859760284,\n",
       " 0.019153373315930367,\n",
       " 0.02112782746553421,\n",
       " 0.9818999767303467,\n",
       " 0.994700014591217,\n",
       " 0.9930999875068665]"
      ]
     },
     "execution_count": 12,
     "metadata": {},
     "output_type": "execute_result"
    }
   ],
   "source": [
    "model.evaluate(test_data, [test_labels, test_labels, test_labels])"
   ]
  }
 ],
 "metadata": {
  "interpreter": {
   "hash": "b65d1bd44b1984909d4786d87cd249812df6170d2cfdad27020db32b22a12972"
  },
  "kernelspec": {
   "display_name": "Python 3 (ipykernel)",
   "language": "python",
   "name": "python3"
  },
  "language_info": {
   "codemirror_mode": {
    "name": "ipython",
    "version": 3
   },
   "file_extension": ".py",
   "mimetype": "text/x-python",
   "name": "python",
   "nbconvert_exporter": "python",
   "pygments_lexer": "ipython3",
   "version": "3.8.10"
  }
 },
 "nbformat": 4,
 "nbformat_minor": 4
}
